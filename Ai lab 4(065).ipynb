{
 "cells": [
  {
   "cell_type": "markdown",
   "id": "07f60809",
   "metadata": {},
   "source": [
    "Name=MUSSARAT JADMSHED\n",
    "\n",
    "Roll no=065"
   ]
  },
  {
   "cell_type": "markdown",
   "id": "a9a6893d",
   "metadata": {},
   "source": [
    ". Code for LUHN Algorithm "
   ]
  },
  {
   "cell_type": "code",
   "execution_count": null,
   "id": "279d3953",
   "metadata": {},
   "outputs": [
    {
     "ename": "",
     "evalue": "",
     "output_type": "error",
     "traceback": [
      "\u001b[1;31mThe kernel failed to start as 'escape' could not be imported from 'c:\\Users\\DELL\\Downloads\\html.py'.\n",
      "\u001b[1;31mClick <a href='https://aka.ms/kernelFailuresModuleImportErrFromFile'>here</a> for more info."
     ]
    }
   ],
   "source": [
    "\n",
    "card_number = input(\"Enter card number: \")\n",
    "\n",
    "numbers = list(map(int, card_number))\n",
    "\n",
    "n = len(numbers)\n",
    "for i in range(n - 2, -1, -2):   \n",
    "    doubled = numbers[i] * 2\n",
    "    if doubled > 9:\n",
    "        doubled -= 9\n",
    "    numbers[i] = doubled\n",
    "\n",
    "\n",
    "total = sum(numbers)\n",
    "\n",
    "\n",
    "if total % 10 == 0:\n",
    "    print(\" Card number is VALID\")\n",
    "else:\n",
    "    print(\"Card number is INVALID\")\n"
   ]
  },
  {
   "cell_type": "markdown",
   "id": "8c002b7c",
   "metadata": {},
   "source": [
    ". Write a python program to remove punctuations from the given string?  "
   ]
  },
  {
   "cell_type": "code",
   "execution_count": null,
   "id": "dc65d1e0",
   "metadata": {},
   "outputs": [],
   "source": [
    "\n",
    "\n",
    "import string   \n",
    "\n",
    "text = input(\"Enter string: \")\n",
    "\n",
    "result = \"\"\n",
    "for ch in text:\n",
    "    if ch not in string.punctuation:\n",
    "        result = result + ch\n",
    "\n",
    "print(\"Without punctuation:\", result)\n"
   ]
  },
  {
   "cell_type": "markdown",
   "id": "96a38546",
   "metadata": {},
   "source": [
    ". Write a python program to sort the sentence in alphabetical order?  "
   ]
  },
  {
   "cell_type": "code",
   "execution_count": null,
   "id": "fe378189",
   "metadata": {},
   "outputs": [],
   "source": [
    "sentence = \"Me\"\n",
    "words = sentence.split()\n",
    "words.sort()\n",
    "sorted_sentence = \" \".join(words)\n",
    "print(\"Original sentence:\", sentence)\n",
    "print(\"Sorted sentence:\", sorted_sentence)\n"
   ]
  }
 ],
 "metadata": {
  "kernelspec": {
   "display_name": "base",
   "language": "python",
   "name": "python3"
  },
  "language_info": {
   "codemirror_mode": {
    "name": "ipython",
    "version": 3
   },
   "file_extension": ".py",
   "mimetype": "text/x-python",
   "name": "python",
   "nbconvert_exporter": "python",
   "pygments_lexer": "ipython3",
   "version": "3.12.4"
  }
 },
 "nbformat": 4,
 "nbformat_minor": 5
}
